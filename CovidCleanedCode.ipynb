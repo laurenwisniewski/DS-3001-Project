{
  "nbformat": 4,
  "nbformat_minor": 0,
  "metadata": {
    "colab": {
      "provenance": [],
      "authorship_tag": "ABX9TyOAPpPVfwvI+CWZeLrinW/8",
      "include_colab_link": true
    },
    "kernelspec": {
      "name": "python3",
      "display_name": "Python 3"
    },
    "language_info": {
      "name": "python"
    }
  },
  "cells": [
    {
      "cell_type": "markdown",
      "metadata": {
        "id": "view-in-github",
        "colab_type": "text"
      },
      "source": [
        "<a href=\"https://colab.research.google.com/github/EmmaMills1002/DS-3001-Project/blob/main/CovidCleanedCode.ipynb\" target=\"_parent\"><img src=\"https://colab.research.google.com/assets/colab-badge.svg\" alt=\"Open In Colab\"/></a>"
      ]
    },
    {
      "cell_type": "code",
      "execution_count": null,
      "metadata": {
        "colab": {
          "base_uri": "https://localhost:8080/"
        },
        "id": "gvUd1dECSaJu",
        "outputId": "a7376382-2cce-4bc5-c725-7461d2760262"
      },
      "outputs": [
        {
          "output_type": "execute_result",
          "data": {
            "text/plain": [
              "Index(['ID', 'Region of residence', 'Age of Subject',\n",
              "       'Time spent on Online Class', 'Rating of Online Class experience',\n",
              "       'Medium for online class', 'Time spent on self study',\n",
              "       'Time spent on fitness', 'Time spent on sleep',\n",
              "       'Time spent on social media', 'Prefered social media platform',\n",
              "       'Time spent on TV', 'Number of meals per day', 'Change in your weight',\n",
              "       'Health issue during lockdown', 'Stress busters', 'Time utilized',\n",
              "       'Do you find yourself more connected with your family, close friends , relatives  ?',\n",
              "       'What you miss the most'],\n",
              "      dtype='object')"
            ]
          },
          "metadata": {},
          "execution_count": 6
        }
      ],
      "source": [
        "import pandas as pd\n",
        "import numpy as np\n",
        "df = pd.read_csv('/content/COVID-19 Survey Student Responses.csv',low_memory=False)\n",
        "df.columns"
      ]
    },
    {
      "cell_type": "code",
      "source": [
        "df.isnull().sum()"
      ],
      "metadata": {
        "colab": {
          "base_uri": "https://localhost:8080/",
          "height": 680
        },
        "id": "M4XNaq4SdZnz",
        "outputId": "8c3376b5-5359-4f62-d4f9-e999a0f9b364"
      },
      "execution_count": null,
      "outputs": [
        {
          "output_type": "execute_result",
          "data": {
            "text/plain": [
              "ID                                                                                     0\n",
              "Region of residence                                                                    0\n",
              "Age of Subject                                                                         0\n",
              "Time spent on Online Class                                                             0\n",
              "Rating of Online Class experience                                                     24\n",
              "Medium for online class                                                               51\n",
              "Time spent on self study                                                               0\n",
              "Time spent on fitness                                                                  0\n",
              "Time spent on sleep                                                                    0\n",
              "Time spent on social media                                                             0\n",
              "Prefered social media platform                                                        17\n",
              "Time spent on TV                                                                       0\n",
              "Number of meals per day                                                                0\n",
              "Change in your weight                                                                  0\n",
              "Health issue during lockdown                                                           0\n",
              "Stress busters                                                                         0\n",
              "Time utilized                                                                          0\n",
              "Do you find yourself more connected with your family, close friends , relatives  ?     0\n",
              "What you miss the most                                                                 0\n",
              "dtype: int64"
            ],
            "text/html": [
              "<div>\n",
              "<style scoped>\n",
              "    .dataframe tbody tr th:only-of-type {\n",
              "        vertical-align: middle;\n",
              "    }\n",
              "\n",
              "    .dataframe tbody tr th {\n",
              "        vertical-align: top;\n",
              "    }\n",
              "\n",
              "    .dataframe thead th {\n",
              "        text-align: right;\n",
              "    }\n",
              "</style>\n",
              "<table border=\"1\" class=\"dataframe\">\n",
              "  <thead>\n",
              "    <tr style=\"text-align: right;\">\n",
              "      <th></th>\n",
              "      <th>0</th>\n",
              "    </tr>\n",
              "  </thead>\n",
              "  <tbody>\n",
              "    <tr>\n",
              "      <th>ID</th>\n",
              "      <td>0</td>\n",
              "    </tr>\n",
              "    <tr>\n",
              "      <th>Region of residence</th>\n",
              "      <td>0</td>\n",
              "    </tr>\n",
              "    <tr>\n",
              "      <th>Age of Subject</th>\n",
              "      <td>0</td>\n",
              "    </tr>\n",
              "    <tr>\n",
              "      <th>Time spent on Online Class</th>\n",
              "      <td>0</td>\n",
              "    </tr>\n",
              "    <tr>\n",
              "      <th>Rating of Online Class experience</th>\n",
              "      <td>24</td>\n",
              "    </tr>\n",
              "    <tr>\n",
              "      <th>Medium for online class</th>\n",
              "      <td>51</td>\n",
              "    </tr>\n",
              "    <tr>\n",
              "      <th>Time spent on self study</th>\n",
              "      <td>0</td>\n",
              "    </tr>\n",
              "    <tr>\n",
              "      <th>Time spent on fitness</th>\n",
              "      <td>0</td>\n",
              "    </tr>\n",
              "    <tr>\n",
              "      <th>Time spent on sleep</th>\n",
              "      <td>0</td>\n",
              "    </tr>\n",
              "    <tr>\n",
              "      <th>Time spent on social media</th>\n",
              "      <td>0</td>\n",
              "    </tr>\n",
              "    <tr>\n",
              "      <th>Prefered social media platform</th>\n",
              "      <td>17</td>\n",
              "    </tr>\n",
              "    <tr>\n",
              "      <th>Time spent on TV</th>\n",
              "      <td>0</td>\n",
              "    </tr>\n",
              "    <tr>\n",
              "      <th>Number of meals per day</th>\n",
              "      <td>0</td>\n",
              "    </tr>\n",
              "    <tr>\n",
              "      <th>Change in your weight</th>\n",
              "      <td>0</td>\n",
              "    </tr>\n",
              "    <tr>\n",
              "      <th>Health issue during lockdown</th>\n",
              "      <td>0</td>\n",
              "    </tr>\n",
              "    <tr>\n",
              "      <th>Stress busters</th>\n",
              "      <td>0</td>\n",
              "    </tr>\n",
              "    <tr>\n",
              "      <th>Time utilized</th>\n",
              "      <td>0</td>\n",
              "    </tr>\n",
              "    <tr>\n",
              "      <th>Do you find yourself more connected with your family, close friends , relatives  ?</th>\n",
              "      <td>0</td>\n",
              "    </tr>\n",
              "    <tr>\n",
              "      <th>What you miss the most</th>\n",
              "      <td>0</td>\n",
              "    </tr>\n",
              "  </tbody>\n",
              "</table>\n",
              "</div><br><label><b>dtype:</b> int64</label>"
            ]
          },
          "metadata": {},
          "execution_count": 17
        }
      ]
    },
    {
      "cell_type": "code",
      "source": [
        "df = df.dropna()"
      ],
      "metadata": {
        "id": "WBTeavbydfTz"
      },
      "execution_count": null,
      "outputs": []
    },
    {
      "cell_type": "code",
      "source": [
        "df.columns = df.columns.str.strip().str.lower()\n",
        "df.columns"
      ],
      "metadata": {
        "colab": {
          "base_uri": "https://localhost:8080/"
        },
        "id": "GZL-2ANVdjBS",
        "outputId": "9649e08e-f5e9-4e4c-908b-fdb69964dead"
      },
      "execution_count": null,
      "outputs": [
        {
          "output_type": "execute_result",
          "data": {
            "text/plain": [
              "Index(['id', 'region of residence', 'age of subject',\n",
              "       'time spent on online class', 'rating of online class experience',\n",
              "       'medium for online class', 'time spent on self study',\n",
              "       'time spent on fitness', 'time spent on sleep',\n",
              "       'time spent on social media', 'prefered social media platform',\n",
              "       'time spent on tv', 'number of meals per day', 'change in your weight',\n",
              "       'health issue during lockdown', 'stress busters', 'time utilized',\n",
              "       'do you find yourself more connected with your family, close friends , relatives  ?',\n",
              "       'what you miss the most'],\n",
              "      dtype='object')"
            ]
          },
          "metadata": {},
          "execution_count": 20
        }
      ]
    },
    {
      "cell_type": "code",
      "source": [
        "numeric_status = df.dtypes.apply(pd.api.types.is_numeric_dtype)\n",
        "print(numeric_status)"
      ],
      "metadata": {
        "colab": {
          "base_uri": "https://localhost:8080/"
        },
        "id": "qH6IGXsnepWx",
        "outputId": "9d6016a3-0d45-45c8-bffc-ae9734b3b627"
      },
      "execution_count": null,
      "outputs": [
        {
          "output_type": "stream",
          "name": "stdout",
          "text": [
            "id                                                                                    False\n",
            "region of residence                                                                   False\n",
            "age of subject                                                                         True\n",
            "time spent on online class                                                             True\n",
            "rating of online class experience                                                     False\n",
            "medium for online class                                                               False\n",
            "time spent on self study                                                               True\n",
            "time spent on fitness                                                                  True\n",
            "time spent on sleep                                                                    True\n",
            "time spent on social media                                                             True\n",
            "prefered social media platform                                                        False\n",
            "time spent on tv                                                                      False\n",
            "number of meals per day                                                                True\n",
            "change in your weight                                                                 False\n",
            "health issue during lockdown                                                          False\n",
            "stress busters                                                                        False\n",
            "time utilized                                                                         False\n",
            "do you find yourself more connected with your family, close friends , relatives  ?    False\n",
            "what you miss the most                                                                False\n",
            "dtype: bool\n"
          ]
        }
      ]
    },
    {
      "cell_type": "code",
      "source": [
        "df.duplicated().sum()"
      ],
      "metadata": {
        "id": "Hed7P0g8e2q3",
        "outputId": "30a48efa-5cf0-4704-9a9d-c5047c22a399",
        "colab": {
          "base_uri": "https://localhost:8080/"
        }
      },
      "execution_count": null,
      "outputs": [
        {
          "output_type": "execute_result",
          "data": {
            "text/plain": [
              "0"
            ]
          },
          "metadata": {},
          "execution_count": 26
        }
      ]
    },
    {
      "cell_type": "code",
      "source": [
        "stress = df['Stress busters']\n",
        "stress = stress.replace(['Scrolling through social media', 'Social Media', 'Online surfing', 'Both listining music and scrolling down social media'], 'Social Media')\n",
        "stress = stress.replace(['Listening to music', 'Music', 'listening to music,reading books and dancing.', ' listening music, motion design, graphic design, sleeping.', 'Listening to music and reading books both . '], 'Music')\n",
        "stress = stress.replace(['Reading', 'Reading books', 'Writing my own Comics & novels', 'Reading books, music, exercise', 'All reading books watching web series listening to music and talking to friends','Poetry, writing books and novels , listening to music too' ], 'Reading')\n",
        "stress = stress.replace(['Watching web series', 'live stream watching', 'Watching orgasm releasing videos', 'Web Series', 'Anime Manga', 'watching movies,reading books,games,listening to music,sleep,dancing', 'Netflix, Friends and Books', 'Watching ted talks and music and books', 'Youtube', 'Watching YouTube '], 'Watching Videos')\n",
        "stress = stress.replace(['Coding and studying for exams', 'Online gaming', 'Indoor Games', 'Online gaming , surfing and listening to music '], 'Online Gaming')\n",
        "stress = stress.replace(['Cricket', 'Workout ', 'Dancing', 'Playing ', 'Meditation', 'Exercise', 'I run', 'Running', 'Exercising', 'Football', 'Cardio', 'working out and some physical activity', 'Gym', 'workout', 'Workout and listening music', 'Sports'], 'Exercise')\n",
        "stress = stress.replace(['Talking with friends ', 'Talking', 'Talking to your relatives', 'Talk with childhood friends.', 'Talking to friends', 'With a friend', 'Calling friends', 'Taking with parents'], 'Talking to Friends and Family')\n",
        "stress = stress.replace(['sketching,reading books,meditation,songs', 'drawing ', 'Sketching and writing', 'Writing','gardening cartoon', 'Painting,. Sewing', 'Drawing', 'Painting', 'Sketching', 'Drawing, painting', 'Drawing and painting and sketching', 'Painting '], 'Art')\n",
        "stress = stress.replace(['Work', 'By engaging in my work.', 'Business'], 'Work')\n",
        "stress = stress.replace(['Sleep', 'Sleeping', 'Sleeping, Online games'], 'Sleep')\n",
        "stress = stress.replace(['I have no problem of stress ', 'Dont get distreessed', 'no stress'], 'No Stress')\n",
        "stress = stress.replace(['Many of these', 'Many among these ', 'Whatever want'], 'Many')\n",
        "stress = stress.replace(['I cant de-stress myslef', 'No able to reduce the stress '], 'None')\n",
        "stress = stress.replace(['singing'], 'Singing')\n",
        "stress = stress.replace(['Do some home related stuff', 'I play Rubiks cube', 'pubg', 'Forming '], 'Other')"
      ],
      "metadata": {
        "id": "rlGxn1doVL-s"
      },
      "execution_count": null,
      "outputs": []
    },
    {
      "cell_type": "code",
      "source": [
        "df['Stress busters'] = stress\n",
        "del stress\n",
        "df['Stress busters'].value_counts()"
      ],
      "metadata": {
        "colab": {
          "base_uri": "https://localhost:8080/",
          "height": 680
        },
        "id": "s3rs_abgb1JR",
        "outputId": "7ddb08b1-e0a8-4f01-fa45-cbf13d919508"
      },
      "execution_count": null,
      "outputs": [
        {
          "output_type": "execute_result",
          "data": {
            "text/plain": [
              "Stress busters\n",
              "Music                            279\n",
              "Online Gaming                    178\n",
              "Social Media                     152\n",
              "Watching Videos                  132\n",
              "Sleep                            106\n",
              "Reading                          100\n",
              "Exercise                          99\n",
              "Talking to Friends and Family     62\n",
              "Cooking                           41\n",
              "Art                               15\n",
              "Other                              4\n",
              "Many                               3\n",
              "No Stress                          3\n",
              "Work                               3\n",
              "None                               2\n",
              "Crying                             1\n",
              "Driving                            1\n",
              "Singing                            1\n",
              "Name: count, dtype: int64"
            ],
            "text/html": [
              "<div>\n",
              "<style scoped>\n",
              "    .dataframe tbody tr th:only-of-type {\n",
              "        vertical-align: middle;\n",
              "    }\n",
              "\n",
              "    .dataframe tbody tr th {\n",
              "        vertical-align: top;\n",
              "    }\n",
              "\n",
              "    .dataframe thead th {\n",
              "        text-align: right;\n",
              "    }\n",
              "</style>\n",
              "<table border=\"1\" class=\"dataframe\">\n",
              "  <thead>\n",
              "    <tr style=\"text-align: right;\">\n",
              "      <th></th>\n",
              "      <th>count</th>\n",
              "    </tr>\n",
              "    <tr>\n",
              "      <th>Stress busters</th>\n",
              "      <th></th>\n",
              "    </tr>\n",
              "  </thead>\n",
              "  <tbody>\n",
              "    <tr>\n",
              "      <th>Music</th>\n",
              "      <td>279</td>\n",
              "    </tr>\n",
              "    <tr>\n",
              "      <th>Online Gaming</th>\n",
              "      <td>178</td>\n",
              "    </tr>\n",
              "    <tr>\n",
              "      <th>Social Media</th>\n",
              "      <td>152</td>\n",
              "    </tr>\n",
              "    <tr>\n",
              "      <th>Watching Videos</th>\n",
              "      <td>132</td>\n",
              "    </tr>\n",
              "    <tr>\n",
              "      <th>Sleep</th>\n",
              "      <td>106</td>\n",
              "    </tr>\n",
              "    <tr>\n",
              "      <th>Reading</th>\n",
              "      <td>100</td>\n",
              "    </tr>\n",
              "    <tr>\n",
              "      <th>Exercise</th>\n",
              "      <td>99</td>\n",
              "    </tr>\n",
              "    <tr>\n",
              "      <th>Talking to Friends and Family</th>\n",
              "      <td>62</td>\n",
              "    </tr>\n",
              "    <tr>\n",
              "      <th>Cooking</th>\n",
              "      <td>41</td>\n",
              "    </tr>\n",
              "    <tr>\n",
              "      <th>Art</th>\n",
              "      <td>15</td>\n",
              "    </tr>\n",
              "    <tr>\n",
              "      <th>Other</th>\n",
              "      <td>4</td>\n",
              "    </tr>\n",
              "    <tr>\n",
              "      <th>Many</th>\n",
              "      <td>3</td>\n",
              "    </tr>\n",
              "    <tr>\n",
              "      <th>No Stress</th>\n",
              "      <td>3</td>\n",
              "    </tr>\n",
              "    <tr>\n",
              "      <th>Work</th>\n",
              "      <td>3</td>\n",
              "    </tr>\n",
              "    <tr>\n",
              "      <th>None</th>\n",
              "      <td>2</td>\n",
              "    </tr>\n",
              "    <tr>\n",
              "      <th>Crying</th>\n",
              "      <td>1</td>\n",
              "    </tr>\n",
              "    <tr>\n",
              "      <th>Driving</th>\n",
              "      <td>1</td>\n",
              "    </tr>\n",
              "    <tr>\n",
              "      <th>Singing</th>\n",
              "      <td>1</td>\n",
              "    </tr>\n",
              "  </tbody>\n",
              "</table>\n",
              "</div><br><label><b>dtype:</b> int64</label>"
            ]
          },
          "metadata": {},
          "execution_count": 8
        }
      ]
    },
    {
      "cell_type": "code",
      "source": [
        "df['What you miss the most'].unique()\n",
        "miss = df['What you miss the most']\n",
        "miss = miss.replace(['School/college', 'School and friends.', 'School and my school friends', 'school, relatives and friends'], 'School')\n",
        "miss = miss.replace(['Friends', 'Family', 'Friends and roaming around freely','Friends, relatives & travelling', 'Friends , relatives', 'Being social ', 'Friends and School', 'The idea of being around fun loving people but this time has certainly made us all to reconnect (and fill the gap if any) with our families and relatives so it is fun but certainly we do miss hanging out with friends', 'Friends,Romaing and traveling', 'Only friends', 'Family '], 'Friends and Family')\n",
        "miss = miss.replace(['Normal life', 'My normal routine'], 'Normalcy')\n",
        "miss = miss.replace(['Travelling', 'Travelling & Friends'], 'Traveling')\n",
        "miss = miss.replace(['Roaming around freely', 'Gym', 'Badminton in court', 'Metro', 'Taking kids to park', 'Eating outside and friends.', 'Going to the movies'], 'Going Places')\n",
        "miss = miss.replace(['Colleagues', 'Job'], 'Work')\n",
        "miss = miss.replace(['Eating outside'], 'Eating Outside')\n",
        "miss = miss.replace(['Nothing this is my usual life', 'To stay alone. ','I have missed nothing ', 'nothing', 'NOTHING', 'Nothing', 'Nothing ', 'Nah, this is my usual lifestyle anyway, just being lazy....'], 'Nothing')\n",
        "miss = miss.replace(['All of them', 'All of the above ','everything', 'ALL', 'all', 'All the above', 'All above', 'All of the above', 'All ', 'All', 'all of the above'], 'Everything')\n",
        "miss = miss.replace(['.', 'Previous mistakes'], 'Other')"
      ],
      "metadata": {
        "id": "_iDa6s3mcCAs"
      },
      "execution_count": null,
      "outputs": []
    },
    {
      "cell_type": "code",
      "source": [
        "df['What you miss the most'] = miss\n",
        "del miss\n",
        "df['What you miss the most'].value_counts()"
      ],
      "metadata": {
        "colab": {
          "base_uri": "https://localhost:8080/",
          "height": 523
        },
        "id": "9C_F-uMqcKWN",
        "outputId": "cbafe8b1-b780-4c46-c9e4-fc2930b00ea2"
      },
      "execution_count": null,
      "outputs": [
        {
          "output_type": "execute_result",
          "data": {
            "text/plain": [
              "What you miss the most\n",
              "School                382\n",
              "Friends and Family    233\n",
              "Traveling             184\n",
              "Going Places          158\n",
              "Eating Outside        104\n",
              "Work                   68\n",
              "Everything             26\n",
              "Nothing                20\n",
              "Normalcy                2\n",
              "Other                   2\n",
              "Internet                1\n",
              "Football                1\n",
              "Playing                 1\n",
              "Name: count, dtype: int64"
            ],
            "text/html": [
              "<div>\n",
              "<style scoped>\n",
              "    .dataframe tbody tr th:only-of-type {\n",
              "        vertical-align: middle;\n",
              "    }\n",
              "\n",
              "    .dataframe tbody tr th {\n",
              "        vertical-align: top;\n",
              "    }\n",
              "\n",
              "    .dataframe thead th {\n",
              "        text-align: right;\n",
              "    }\n",
              "</style>\n",
              "<table border=\"1\" class=\"dataframe\">\n",
              "  <thead>\n",
              "    <tr style=\"text-align: right;\">\n",
              "      <th></th>\n",
              "      <th>count</th>\n",
              "    </tr>\n",
              "    <tr>\n",
              "      <th>What you miss the most</th>\n",
              "      <th></th>\n",
              "    </tr>\n",
              "  </thead>\n",
              "  <tbody>\n",
              "    <tr>\n",
              "      <th>School</th>\n",
              "      <td>382</td>\n",
              "    </tr>\n",
              "    <tr>\n",
              "      <th>Friends and Family</th>\n",
              "      <td>233</td>\n",
              "    </tr>\n",
              "    <tr>\n",
              "      <th>Traveling</th>\n",
              "      <td>184</td>\n",
              "    </tr>\n",
              "    <tr>\n",
              "      <th>Going Places</th>\n",
              "      <td>158</td>\n",
              "    </tr>\n",
              "    <tr>\n",
              "      <th>Eating Outside</th>\n",
              "      <td>104</td>\n",
              "    </tr>\n",
              "    <tr>\n",
              "      <th>Work</th>\n",
              "      <td>68</td>\n",
              "    </tr>\n",
              "    <tr>\n",
              "      <th>Everything</th>\n",
              "      <td>26</td>\n",
              "    </tr>\n",
              "    <tr>\n",
              "      <th>Nothing</th>\n",
              "      <td>20</td>\n",
              "    </tr>\n",
              "    <tr>\n",
              "      <th>Normalcy</th>\n",
              "      <td>2</td>\n",
              "    </tr>\n",
              "    <tr>\n",
              "      <th>Other</th>\n",
              "      <td>2</td>\n",
              "    </tr>\n",
              "    <tr>\n",
              "      <th>Internet</th>\n",
              "      <td>1</td>\n",
              "    </tr>\n",
              "    <tr>\n",
              "      <th>Football</th>\n",
              "      <td>1</td>\n",
              "    </tr>\n",
              "    <tr>\n",
              "      <th>Playing</th>\n",
              "      <td>1</td>\n",
              "    </tr>\n",
              "  </tbody>\n",
              "</table>\n",
              "</div><br><label><b>dtype:</b> int64</label>"
            ]
          },
          "metadata": {},
          "execution_count": 10
        }
      ]
    }
  ]
}